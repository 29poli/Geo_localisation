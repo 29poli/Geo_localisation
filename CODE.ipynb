{
  "nbformat": 4,
  "nbformat_minor": 0,
  "metadata": {
    "colab": {
      "provenance": [],
      "authorship_tag": "ABX9TyMM6TVDPOzCQtiP5ssZqoIT"
    },
    "kernelspec": {
      "name": "python3",
      "display_name": "Python 3"
    },
    "language_info": {
      "name": "python"
    }
  },
  "cells": [
    {
      "cell_type": "markdown",
      "source": [
        "Geolocalisation\n",
        "---\n",
        "Project 6\n",
        "\n",
        "***Data Analysis and Artificial Intelligence course at Politecnico di Torino***\n",
        "\n",
        "*A.A. 2022/2023*\n",
        "\n",
        "*Automotive Engineering*\n",
        "\n",
        "---\n",
        "\n",
        "https://github.com/gmberton/CosPlace\n",
        "* the whole project refers to this Github repository"
      ],
      "metadata": {
        "id": "rgsybxYBPpT3"
      }
    },
    {
      "cell_type": "code",
      "execution_count": null,
      "metadata": {
        "id": "9NoifxK9PFL1"
      },
      "outputs": [],
      "source": [
        "from google.colab import drive\n",
        "drive.mount('/content/drive')"
      ]
    },
    {
      "cell_type": "code",
      "source": [
        "cd /content/drive/MyDrive/Project_6/CosPlace-main/"
      ],
      "metadata": {
        "id": "fjuf4f9RPGl1"
      },
      "execution_count": null,
      "outputs": []
    },
    {
      "cell_type": "code",
      "source": [
        "!unzip \"/content/drive/MyDrive/path_to_the_zip/folder.zip\" -d \"/content/drive/MyDrive/path_to_the_dataset/\""
      ],
      "metadata": {
        "id": "04NjCEFUPIFp"
      },
      "execution_count": null,
      "outputs": []
    },
    {
      "cell_type": "code",
      "source": [
        "!python3 train.py --dataset_folder /content/drive/MyDrive/path_to_the_dataset/  --groups_num 1 --epochs_num 3 --num_workers 2 --use_amp16"
      ],
      "metadata": {
        "id": "tCAnQT6cPJ9_"
      },
      "execution_count": null,
      "outputs": []
    },
    {
      "cell_type": "code",
      "source": [
        "! python3 train.py -h\n",
        "# it shows all the hyper parameters"
      ],
      "metadata": {
        "id": "1V4fRboDPMco"
      },
      "execution_count": null,
      "outputs": []
    },
    {
      "cell_type": "code",
      "source": [
        "# To eval the performance of our model with different dataset\n",
        "! python3 eval.py --dataset_folder /content/drive/MyDrive/path_to_the_dataset/ --backbone ResNet18 --fc_output_dim 512 --num_workers 2 --resume_model /content/drive/MyDrive/Path_to_the_model/best_model.pth"
      ],
      "metadata": {
        "id": "TxLLbXFNPORQ"
      },
      "execution_count": null,
      "outputs": []
    },
    {
      "cell_type": "markdown",
      "source": [
        "- Vella Giacomo (#291661)\n",
        "- Leonetti Davide (#302178)\n",
        "- Fiammengo Davide (#305822)"
      ],
      "metadata": {
        "id": "CkrKDtP-QqG0"
      }
    }
  ]
}