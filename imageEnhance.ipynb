{
  "nbformat": 4,
  "nbformat_minor": 0,
  "metadata": {
    "colab": {
      "provenance": [],
      "authorship_tag": "ABX9TyPz8IMeom7V+6QZopJvBfJ2"
    },
    "kernelspec": {
      "name": "python3",
      "display_name": "Python 3"
    },
    "language_info": {
      "name": "python"
    }
  },
  "cells": [
    {
      "cell_type": "code",
      "execution_count": 1,
      "metadata": {
        "colab": {
          "base_uri": "https://localhost:8080/"
        },
        "id": "NmM-yM_CaxfB",
        "outputId": "5762482b-3ed1-4283-abb8-2b4d5b4e0066"
      },
      "outputs": [
        {
          "output_type": "stream",
          "name": "stdout",
          "text": [
            "Mounted at /content/drive\n"
          ]
        }
      ],
      "source": [
        "from google.colab import drive\n",
        "drive.mount('/content/drive')"
      ]
    },
    {
      "cell_type": "code",
      "source": [
        "!pip install Pillow"
      ],
      "metadata": {
        "colab": {
          "base_uri": "https://localhost:8080/"
        },
        "id": "kRk5RyJXa2JC",
        "outputId": "de09b839-89f0-4f18-be93-2381a97fc027"
      },
      "execution_count": 2,
      "outputs": [
        {
          "output_type": "stream",
          "name": "stdout",
          "text": [
            "Looking in indexes: https://pypi.org/simple, https://us-python.pkg.dev/colab-wheels/public/simple/\n",
            "Requirement already satisfied: Pillow in /usr/local/lib/python3.10/dist-packages (8.4.0)\n"
          ]
        }
      ]
    },
    {
      "cell_type": "code",
      "source": [
        "import os\n",
        "from PIL import ImageEnhance\n",
        "from PIL import Image\n",
        "\n",
        "folder_path = \"/content/drive/MyDrive/Project_6/tokyo_xs/test/queries\"\n",
        "\n",
        "folder_path_modified = \"/content/drive/MyDrive/Project_6/tokyo_xs/test/queries_new\"\n"
      ],
      "metadata": {
        "id": "L0BWDFWpa5FR"
      },
      "execution_count": 12,
      "outputs": []
    },
    {
      "cell_type": "code",
      "source": [
        "# Iterate over each file in the folder\n",
        "for filename in os.listdir(folder_path_modified):\n",
        "    file_path = os.path.join(folder_path_modified, filename)\n",
        "    if os.path.isfile(file_path) and (filename.endswith(\".jpg\") or filename.endswith(\".png\")):\n",
        "        # Delete the file\n",
        "        os.remove(file_path)"
      ],
      "metadata": {
        "id": "vI5BxWFAlSfv"
      },
      "execution_count": 18,
      "outputs": []
    },
    {
      "cell_type": "code",
      "source": [
        "for filename in os.listdir(folder_path):\n",
        "    if filename.endswith(\".jpg\") or filename.endswith(\".png\"):\n",
        "        image_path = os.path.join(folder_path, filename)\n",
        "        # Open the image\n",
        "        image = Image.open(image_path)\n",
        "        \n",
        "        # Adjust the saturation\n",
        "        saturation_factor = 1.3  # increse the saturation of 50%\n",
        "        enhancer = ImageEnhance.Color(image)\n",
        "        image = enhancer.enhance(saturation_factor)\n",
        "        \n",
        "        # Adjust the brightness\n",
        "        brightness_factor = 1.2  # increse the brightness of 20%\n",
        "        enhancer = ImageEnhance.Brightness(image)\n",
        "        image = enhancer.enhance(brightness_factor)\n",
        "\n",
        "        # Adjust the contrast\n",
        "        contrast_factor = 1.2  # Change this value to adjust contrast\n",
        "        enhancer = ImageEnhance.Contrast(image)\n",
        "        image = enhancer.enhance(contrast_factor)\n",
        " \n",
        "\n",
        "\n",
        "        # Save the modified image\n",
        "        modified_image_path = os.path.join(folder_path_modified,filename)\n",
        "        image.save(modified_image_path)\n"
      ],
      "metadata": {
        "id": "Xtzl0ELmbPJn"
      },
      "execution_count": 11,
      "outputs": []
    },
    {
      "cell_type": "code",
      "source": [
        "# da colorate a scala di grigi\n",
        "\n",
        "for filename in os.listdir(folder_path):\n",
        "    if filename.endswith(\".jpg\") or filename.endswith(\".png\"):\n",
        "        image_path = os.path.join(folder_path, filename)\n",
        "        # Open the image\n",
        "        image = Image.open(image_path)\n",
        "\n",
        "        # Adjust the saturation\n",
        "        saturation_factor = 1.3  # increse the saturation of 50%\n",
        "        enhancer = ImageEnhance.Color(image)\n",
        "        image = enhancer.enhance(saturation_factor)\n",
        "\n",
        "        # Adjust the brightness\n",
        "        brightness_factor = 1.1  # increse the brightness of 20%\n",
        "        enhancer = ImageEnhance.Brightness(image)\n",
        "        image = enhancer.enhance(brightness_factor)\n",
        "\n",
        "        # Adjust the contrast\n",
        "        contrast_factor = 0.9  # Change this value to adjust contrast\n",
        "        enhancer = ImageEnhance.Contrast(image)\n",
        "        image = enhancer.enhance(contrast_factor)\n",
        "\n",
        "        # Convert to grayscale\n",
        "        grayscale_image = image.convert(\"L\")\n",
        "        \n",
        "        # Save the modified image\n",
        "        modified_image_path = os.path.join(folder_path_modified, filename)\n",
        "        grayscale_image.save(modified_image_path)\n"
      ],
      "metadata": {
        "id": "SLfdHskvFdbL"
      },
      "execution_count": 19,
      "outputs": []
    }
  ]
}